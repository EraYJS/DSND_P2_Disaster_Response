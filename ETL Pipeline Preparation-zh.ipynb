{
 "cells": [
  {
   "cell_type": "markdown",
   "metadata": {},
   "source": [
    "# ETL Pipeline \n",
    "按照下面的说明，创建你的 ETL 管道。\n",
    "### 1. 导入与加载.\n",
    "- 导入 Python 库\n",
    "- 将 `messages.csv` 导入数据框，查看前几行\n",
    "- 将 `categories.csv` 导入数据框，查看前几行"
   ]
  },
  {
   "cell_type": "code",
   "execution_count": 1,
   "metadata": {
    "pycharm": {
     "is_executing": false
    }
   },
   "outputs": [],
   "source": [
    "# import libraries\n",
    "\n",
    "import numpy as np\n",
    "import pandas as pd\n",
    "\n",
    "# load messages dataset\n",
    "messages = pd.read_csv(\"messages.csv\")\n",
    "\n",
    "# load categories dataset\n",
    "categories = pd.read_csv(\"categories.csv\")"
   ]
  },
  {
   "cell_type": "markdown",
   "metadata": {},
   "source": [
    "### 2. 合并数据集\n",
    "- 使用相同的 id 合并 messages 和 categories 数据集\n",
    "- 将合并后的数据集传入 `df`，在后续的步骤中要清洗该数据集。"
   ]
  },
  {
   "cell_type": "code",
   "execution_count": 2,
   "metadata": {
    "pycharm": {
     "is_executing": false
    }
   },
   "outputs": [],
   "source": [
    "# merge datasets\n",
    "df = pd.merge(messages, categories)"
   ]
  },
  {
   "cell_type": "markdown",
   "source": [
    "### 3. 分割 `categories` \n",
    "- 将 `categories` 列的值根据字符 `;` 进行分割，每个值是一个新列。你会发现 [这个方法](https://pandas.pydata.org/pandas-docs/version/0.23/generated/pandas.Series.str.split.html) 非常有用。确保设置 `expand=True`。\n",
    "- 使用 categories 数据框的第一行来创建类别数据的列名。[\"categories\"]]\n",
    "- 使用新的列名重命名 `categories` 的列。"
   ],
   "metadata": {
    "collapsed": false
   }
  },
  {
   "cell_type": "code",
   "execution_count": 3,
   "outputs": [
    {
     "data": {
      "text/plain": "          0          1        2              3               4   \\\n0  related-1  request-0  offer-0  aid_related-0  medical_help-0   \n1  related-1  request-0  offer-0  aid_related-1  medical_help-0   \n2  related-1  request-0  offer-0  aid_related-0  medical_help-0   \n3  related-1  request-1  offer-0  aid_related-1  medical_help-0   \n4  related-1  request-0  offer-0  aid_related-0  medical_help-0   \n\n                   5                    6           7           8   \\\n0  medical_products-0  search_and_rescue-0  security-0  military-0   \n1  medical_products-0  search_and_rescue-0  security-0  military-0   \n2  medical_products-0  search_and_rescue-0  security-0  military-0   \n3  medical_products-1  search_and_rescue-0  security-0  military-0   \n4  medical_products-0  search_and_rescue-0  security-0  military-0   \n\n              9   ...             26                      27  \\\n0  child_alone-0  ...  aid_centers-0  other_infrastructure-0   \n1  child_alone-0  ...  aid_centers-0  other_infrastructure-0   \n2  child_alone-0  ...  aid_centers-0  other_infrastructure-0   \n3  child_alone-0  ...  aid_centers-0  other_infrastructure-0   \n4  child_alone-0  ...  aid_centers-0  other_infrastructure-0   \n\n                  28        29       30      31            32      33  \\\n0  weather_related-0  floods-0  storm-0  fire-0  earthquake-0  cold-0   \n1  weather_related-1  floods-0  storm-1  fire-0  earthquake-0  cold-0   \n2  weather_related-0  floods-0  storm-0  fire-0  earthquake-0  cold-0   \n3  weather_related-0  floods-0  storm-0  fire-0  earthquake-0  cold-0   \n4  weather_related-0  floods-0  storm-0  fire-0  earthquake-0  cold-0   \n\n                34               35  \n0  other_weather-0  direct_report-0  \n1  other_weather-0  direct_report-0  \n2  other_weather-0  direct_report-0  \n3  other_weather-0  direct_report-0  \n4  other_weather-0  direct_report-0  \n\n[5 rows x 36 columns]",
      "text/html": "<div>\n<style scoped>\n    .dataframe tbody tr th:only-of-type {\n        vertical-align: middle;\n    }\n\n    .dataframe tbody tr th {\n        vertical-align: top;\n    }\n\n    .dataframe thead th {\n        text-align: right;\n    }\n</style>\n<table border=\"1\" class=\"dataframe\">\n  <thead>\n    <tr style=\"text-align: right;\">\n      <th></th>\n      <th>0</th>\n      <th>1</th>\n      <th>2</th>\n      <th>3</th>\n      <th>4</th>\n      <th>5</th>\n      <th>6</th>\n      <th>7</th>\n      <th>8</th>\n      <th>9</th>\n      <th>...</th>\n      <th>26</th>\n      <th>27</th>\n      <th>28</th>\n      <th>29</th>\n      <th>30</th>\n      <th>31</th>\n      <th>32</th>\n      <th>33</th>\n      <th>34</th>\n      <th>35</th>\n    </tr>\n  </thead>\n  <tbody>\n    <tr>\n      <th>0</th>\n      <td>related-1</td>\n      <td>request-0</td>\n      <td>offer-0</td>\n      <td>aid_related-0</td>\n      <td>medical_help-0</td>\n      <td>medical_products-0</td>\n      <td>search_and_rescue-0</td>\n      <td>security-0</td>\n      <td>military-0</td>\n      <td>child_alone-0</td>\n      <td>...</td>\n      <td>aid_centers-0</td>\n      <td>other_infrastructure-0</td>\n      <td>weather_related-0</td>\n      <td>floods-0</td>\n      <td>storm-0</td>\n      <td>fire-0</td>\n      <td>earthquake-0</td>\n      <td>cold-0</td>\n      <td>other_weather-0</td>\n      <td>direct_report-0</td>\n    </tr>\n    <tr>\n      <th>1</th>\n      <td>related-1</td>\n      <td>request-0</td>\n      <td>offer-0</td>\n      <td>aid_related-1</td>\n      <td>medical_help-0</td>\n      <td>medical_products-0</td>\n      <td>search_and_rescue-0</td>\n      <td>security-0</td>\n      <td>military-0</td>\n      <td>child_alone-0</td>\n      <td>...</td>\n      <td>aid_centers-0</td>\n      <td>other_infrastructure-0</td>\n      <td>weather_related-1</td>\n      <td>floods-0</td>\n      <td>storm-1</td>\n      <td>fire-0</td>\n      <td>earthquake-0</td>\n      <td>cold-0</td>\n      <td>other_weather-0</td>\n      <td>direct_report-0</td>\n    </tr>\n    <tr>\n      <th>2</th>\n      <td>related-1</td>\n      <td>request-0</td>\n      <td>offer-0</td>\n      <td>aid_related-0</td>\n      <td>medical_help-0</td>\n      <td>medical_products-0</td>\n      <td>search_and_rescue-0</td>\n      <td>security-0</td>\n      <td>military-0</td>\n      <td>child_alone-0</td>\n      <td>...</td>\n      <td>aid_centers-0</td>\n      <td>other_infrastructure-0</td>\n      <td>weather_related-0</td>\n      <td>floods-0</td>\n      <td>storm-0</td>\n      <td>fire-0</td>\n      <td>earthquake-0</td>\n      <td>cold-0</td>\n      <td>other_weather-0</td>\n      <td>direct_report-0</td>\n    </tr>\n    <tr>\n      <th>3</th>\n      <td>related-1</td>\n      <td>request-1</td>\n      <td>offer-0</td>\n      <td>aid_related-1</td>\n      <td>medical_help-0</td>\n      <td>medical_products-1</td>\n      <td>search_and_rescue-0</td>\n      <td>security-0</td>\n      <td>military-0</td>\n      <td>child_alone-0</td>\n      <td>...</td>\n      <td>aid_centers-0</td>\n      <td>other_infrastructure-0</td>\n      <td>weather_related-0</td>\n      <td>floods-0</td>\n      <td>storm-0</td>\n      <td>fire-0</td>\n      <td>earthquake-0</td>\n      <td>cold-0</td>\n      <td>other_weather-0</td>\n      <td>direct_report-0</td>\n    </tr>\n    <tr>\n      <th>4</th>\n      <td>related-1</td>\n      <td>request-0</td>\n      <td>offer-0</td>\n      <td>aid_related-0</td>\n      <td>medical_help-0</td>\n      <td>medical_products-0</td>\n      <td>search_and_rescue-0</td>\n      <td>security-0</td>\n      <td>military-0</td>\n      <td>child_alone-0</td>\n      <td>...</td>\n      <td>aid_centers-0</td>\n      <td>other_infrastructure-0</td>\n      <td>weather_related-0</td>\n      <td>floods-0</td>\n      <td>storm-0</td>\n      <td>fire-0</td>\n      <td>earthquake-0</td>\n      <td>cold-0</td>\n      <td>other_weather-0</td>\n      <td>direct_report-0</td>\n    </tr>\n  </tbody>\n</table>\n<p>5 rows × 36 columns</p>\n</div>"
     },
     "metadata": {},
     "output_type": "execute_result",
     "execution_count": 3
    }
   ],
   "source": [
    "# create a dataframe of the 36 individual category columns\n",
    "categories = categories[\"categories\"].str.split(pat=\";\", expand=True)\n",
    "categories.head()"
   ],
   "metadata": {
    "collapsed": false,
    "pycharm": {
     "name": "#%%\n",
     "is_executing": false
    }
   }
  },
  {
   "cell_type": "code",
   "execution_count": 4,
   "outputs": [
    {
     "data": {
      "text/plain": "0                    related\n1                    request\n2                      offer\n3                aid_related\n4               medical_help\n5           medical_products\n6          search_and_rescue\n7                   security\n8                   military\n9                child_alone\n10                     water\n11                      food\n12                   shelter\n13                  clothing\n14                     money\n15            missing_people\n16                  refugees\n17                     death\n18                 other_aid\n19    infrastructure_related\n20                 transport\n21                 buildings\n22               electricity\n23                     tools\n24                 hospitals\n25                     shops\n26               aid_centers\n27      other_infrastructure\n28           weather_related\n29                    floods\n30                     storm\n31                      fire\n32                earthquake\n33                      cold\n34             other_weather\n35             direct_report\nName: 0, dtype: object"
     },
     "metadata": {},
     "output_type": "execute_result",
     "execution_count": 4
    }
   ],
   "source": [
    "# select the first row of the categories dataframe\n",
    "row = categories.iloc[0].apply(lambda x: x[:-2])\n",
    "row"
   ],
   "metadata": {
    "collapsed": false,
    "pycharm": {
     "name": "#%%\n",
     "is_executing": false
    }
   }
  },
  {
   "cell_type": "code",
   "execution_count": 7,
   "outputs": [
    {
     "name": "stdout",
     "text": [
      "0                    related\n",
      "1                    request\n",
      "2                      offer\n",
      "3                aid_related\n",
      "4               medical_help\n",
      "5           medical_products\n",
      "6          search_and_rescue\n",
      "7                   security\n",
      "8                   military\n",
      "9                child_alone\n",
      "10                     water\n",
      "11                      food\n",
      "12                   shelter\n",
      "13                  clothing\n",
      "14                     money\n",
      "15            missing_people\n",
      "16                  refugees\n",
      "17                     death\n",
      "18                 other_aid\n",
      "19    infrastructure_related\n",
      "20                 transport\n",
      "21                 buildings\n",
      "22               electricity\n",
      "23                     tools\n",
      "24                 hospitals\n",
      "25                     shops\n",
      "26               aid_centers\n",
      "27      other_infrastructure\n",
      "28           weather_related\n",
      "29                    floods\n",
      "30                     storm\n",
      "31                      fire\n",
      "32                earthquake\n",
      "33                      cold\n",
      "34             other_weather\n",
      "35             direct_report\n",
      "Name: 0, dtype: object\n"
     ],
     "output_type": "stream"
    }
   ],
   "source": [
    "# use this row to extract a list of new column names for categories.\n",
    "# one way is to apply a lambda function that takes everything \n",
    "# up to the second to last character of each string with slicing\n",
    "category_colnames = row.apply(lambda x: x[:-2])\n",
    "print(category_colnames)"
   ],
   "metadata": {
    "collapsed": false,
    "pycharm": {
     "name": "#%%\n",
     "is_executing": false
    }
   }
  },
  {
   "cell_type": "code",
   "execution_count": 5,
   "outputs": [
    {
     "data": {
      "text/plain": "0    related    request    offer    aid_related    medical_help  \\\n0  related-1  request-0  offer-0  aid_related-0  medical_help-0   \n1  related-1  request-0  offer-0  aid_related-1  medical_help-0   \n2  related-1  request-0  offer-0  aid_related-0  medical_help-0   \n3  related-1  request-1  offer-0  aid_related-1  medical_help-0   \n4  related-1  request-0  offer-0  aid_related-0  medical_help-0   \n\n0    medical_products    search_and_rescue    security    military  \\\n0  medical_products-0  search_and_rescue-0  security-0  military-0   \n1  medical_products-0  search_and_rescue-0  security-0  military-0   \n2  medical_products-0  search_and_rescue-0  security-0  military-0   \n3  medical_products-1  search_and_rescue-0  security-0  military-0   \n4  medical_products-0  search_and_rescue-0  security-0  military-0   \n\n0    child_alone  ...    aid_centers    other_infrastructure  \\\n0  child_alone-0  ...  aid_centers-0  other_infrastructure-0   \n1  child_alone-0  ...  aid_centers-0  other_infrastructure-0   \n2  child_alone-0  ...  aid_centers-0  other_infrastructure-0   \n3  child_alone-0  ...  aid_centers-0  other_infrastructure-0   \n4  child_alone-0  ...  aid_centers-0  other_infrastructure-0   \n\n0    weather_related    floods    storm    fire    earthquake    cold  \\\n0  weather_related-0  floods-0  storm-0  fire-0  earthquake-0  cold-0   \n1  weather_related-1  floods-0  storm-1  fire-0  earthquake-0  cold-0   \n2  weather_related-0  floods-0  storm-0  fire-0  earthquake-0  cold-0   \n3  weather_related-0  floods-0  storm-0  fire-0  earthquake-0  cold-0   \n4  weather_related-0  floods-0  storm-0  fire-0  earthquake-0  cold-0   \n\n0    other_weather    direct_report  \n0  other_weather-0  direct_report-0  \n1  other_weather-0  direct_report-0  \n2  other_weather-0  direct_report-0  \n3  other_weather-0  direct_report-0  \n4  other_weather-0  direct_report-0  \n\n[5 rows x 36 columns]",
      "text/html": "<div>\n<style scoped>\n    .dataframe tbody tr th:only-of-type {\n        vertical-align: middle;\n    }\n\n    .dataframe tbody tr th {\n        vertical-align: top;\n    }\n\n    .dataframe thead th {\n        text-align: right;\n    }\n</style>\n<table border=\"1\" class=\"dataframe\">\n  <thead>\n    <tr style=\"text-align: right;\">\n      <th></th>\n      <th>related</th>\n      <th>request</th>\n      <th>offer</th>\n      <th>aid_related</th>\n      <th>medical_help</th>\n      <th>medical_products</th>\n      <th>search_and_rescue</th>\n      <th>security</th>\n      <th>military</th>\n      <th>child_alone</th>\n      <th>...</th>\n      <th>aid_centers</th>\n      <th>other_infrastructure</th>\n      <th>weather_related</th>\n      <th>floods</th>\n      <th>storm</th>\n      <th>fire</th>\n      <th>earthquake</th>\n      <th>cold</th>\n      <th>other_weather</th>\n      <th>direct_report</th>\n    </tr>\n  </thead>\n  <tbody>\n    <tr>\n      <th>0</th>\n      <td>related-1</td>\n      <td>request-0</td>\n      <td>offer-0</td>\n      <td>aid_related-0</td>\n      <td>medical_help-0</td>\n      <td>medical_products-0</td>\n      <td>search_and_rescue-0</td>\n      <td>security-0</td>\n      <td>military-0</td>\n      <td>child_alone-0</td>\n      <td>...</td>\n      <td>aid_centers-0</td>\n      <td>other_infrastructure-0</td>\n      <td>weather_related-0</td>\n      <td>floods-0</td>\n      <td>storm-0</td>\n      <td>fire-0</td>\n      <td>earthquake-0</td>\n      <td>cold-0</td>\n      <td>other_weather-0</td>\n      <td>direct_report-0</td>\n    </tr>\n    <tr>\n      <th>1</th>\n      <td>related-1</td>\n      <td>request-0</td>\n      <td>offer-0</td>\n      <td>aid_related-1</td>\n      <td>medical_help-0</td>\n      <td>medical_products-0</td>\n      <td>search_and_rescue-0</td>\n      <td>security-0</td>\n      <td>military-0</td>\n      <td>child_alone-0</td>\n      <td>...</td>\n      <td>aid_centers-0</td>\n      <td>other_infrastructure-0</td>\n      <td>weather_related-1</td>\n      <td>floods-0</td>\n      <td>storm-1</td>\n      <td>fire-0</td>\n      <td>earthquake-0</td>\n      <td>cold-0</td>\n      <td>other_weather-0</td>\n      <td>direct_report-0</td>\n    </tr>\n    <tr>\n      <th>2</th>\n      <td>related-1</td>\n      <td>request-0</td>\n      <td>offer-0</td>\n      <td>aid_related-0</td>\n      <td>medical_help-0</td>\n      <td>medical_products-0</td>\n      <td>search_and_rescue-0</td>\n      <td>security-0</td>\n      <td>military-0</td>\n      <td>child_alone-0</td>\n      <td>...</td>\n      <td>aid_centers-0</td>\n      <td>other_infrastructure-0</td>\n      <td>weather_related-0</td>\n      <td>floods-0</td>\n      <td>storm-0</td>\n      <td>fire-0</td>\n      <td>earthquake-0</td>\n      <td>cold-0</td>\n      <td>other_weather-0</td>\n      <td>direct_report-0</td>\n    </tr>\n    <tr>\n      <th>3</th>\n      <td>related-1</td>\n      <td>request-1</td>\n      <td>offer-0</td>\n      <td>aid_related-1</td>\n      <td>medical_help-0</td>\n      <td>medical_products-1</td>\n      <td>search_and_rescue-0</td>\n      <td>security-0</td>\n      <td>military-0</td>\n      <td>child_alone-0</td>\n      <td>...</td>\n      <td>aid_centers-0</td>\n      <td>other_infrastructure-0</td>\n      <td>weather_related-0</td>\n      <td>floods-0</td>\n      <td>storm-0</td>\n      <td>fire-0</td>\n      <td>earthquake-0</td>\n      <td>cold-0</td>\n      <td>other_weather-0</td>\n      <td>direct_report-0</td>\n    </tr>\n    <tr>\n      <th>4</th>\n      <td>related-1</td>\n      <td>request-0</td>\n      <td>offer-0</td>\n      <td>aid_related-0</td>\n      <td>medical_help-0</td>\n      <td>medical_products-0</td>\n      <td>search_and_rescue-0</td>\n      <td>security-0</td>\n      <td>military-0</td>\n      <td>child_alone-0</td>\n      <td>...</td>\n      <td>aid_centers-0</td>\n      <td>other_infrastructure-0</td>\n      <td>weather_related-0</td>\n      <td>floods-0</td>\n      <td>storm-0</td>\n      <td>fire-0</td>\n      <td>earthquake-0</td>\n      <td>cold-0</td>\n      <td>other_weather-0</td>\n      <td>direct_report-0</td>\n    </tr>\n  </tbody>\n</table>\n<p>5 rows × 36 columns</p>\n</div>"
     },
     "metadata": {},
     "output_type": "execute_result",
     "execution_count": 5
    }
   ],
   "source": [
    "# rename the columns of `categories`\n",
    "categories.columns = row\n",
    "categories.head()"
   ],
   "metadata": {
    "collapsed": false,
    "pycharm": {
     "name": "#%%\n",
     "is_executing": false
    }
   }
  },
  {
   "cell_type": "markdown",
   "source": [
    "### 4. 转换类别值至数值 0 或 1\n",
    "- 遍历 df 的类别列，只保留每个字符串的最后一个字符（1 或 0）。例如，`related-0` 变成 `0`，`related-1` 变成 `1`。将字符串转换成数值。\n",
    "- 通过在 Series 后加上`.str`，你可以实现 [Pandas Series 上的常见字符串操作](https://pandas.pydata.org/pandas-docs/stable/text.html#indexing-with-str)，如索引。你可能需要先将 Series 转换成类型字符串，你可以通过 `astype(str)` 实现。"
   ],
   "metadata": {
    "collapsed": false
   }
  },
  {
   "cell_type": "code",
   "execution_count": null,
   "outputs": [],
   "source": [
    "for column in categories:\n",
    "    # set each value to be the last character of the string\n",
    "    categories[column] = categories[column].apply(lambda x: x[-1])\n",
    "    \n",
    "    # convert column from string to numeric\n",
    "    categories[column] = categories[column].astype(int)\n",
    "categories[\"id\"] = messages[\"id\"]\n",
    "categories.head()"
   ],
   "metadata": {
    "collapsed": false,
    "pycharm": {
     "name": "#%%\n"
    }
   }
  },
  {
   "cell_type": "markdown",
   "source": [
    "### 5. 替换 `df` `categories` 类别列\n",
    "- 从 df 数据框中删除类别列，因为不再需要类别列了。\n",
    "- 将 df 和 categories 数据框连接起来。"
   ],
   "metadata": {
    "collapsed": false
   }
  },
  {
   "cell_type": "code",
   "execution_count": null,
   "outputs": [],
   "source": [
    "# drop the original categories column from `df`\n",
    "df.drop(labels=\"categories\", axis=1, inplace=True)\n",
    "\n",
    "df.head()"
   ],
   "metadata": {
    "collapsed": false,
    "pycharm": {
     "name": "#%%\n"
    }
   }
  },
  {
   "cell_type": "code",
   "execution_count": 5,
   "metadata": {
    "pycharm": {
     "is_executing": false
    }
   },
   "outputs": [
    {
     "traceback": [
      "\u001b[0;31m---------------------------------------------------------------------------\u001b[0m",
      "\u001b[0;31mIndexError\u001b[0m                                Traceback (most recent call last)",
      "\u001b[0;32m<ipython-input-5-3284ae809a4e>\u001b[0m in \u001b[0;36m<module>\u001b[0;34m\u001b[0m\n\u001b[1;32m      1\u001b[0m \u001b[0;31m# concatenate the original dataframe with the new `categories` dataframe\u001b[0m\u001b[0;34m\u001b[0m\u001b[0;34m\u001b[0m\u001b[0;34m\u001b[0m\u001b[0m\n\u001b[0;32m----> 2\u001b[0;31m \u001b[0mdf\u001b[0m \u001b[0;34m=\u001b[0m \u001b[0mdata_transform\u001b[0m\u001b[0;34m(\u001b[0m\u001b[0mmessages\u001b[0m\u001b[0;34m,\u001b[0m \u001b[0mcategories\u001b[0m\u001b[0;34m)\u001b[0m\u001b[0;34m\u001b[0m\u001b[0;34m\u001b[0m\u001b[0m\n\u001b[0m\u001b[1;32m      3\u001b[0m \u001b[0mdf\u001b[0m\u001b[0;34m.\u001b[0m\u001b[0mhead\u001b[0m\u001b[0;34m(\u001b[0m\u001b[0;34m)\u001b[0m\u001b[0;34m\u001b[0m\u001b[0;34m\u001b[0m\u001b[0m\n\u001b[1;32m      4\u001b[0m \u001b[0;34m\u001b[0m\u001b[0m\n",
      "\u001b[0;32m<ipython-input-4-55525e149fac>\u001b[0m in \u001b[0;36mdata_transform\u001b[0;34m(msg, cat)\u001b[0m\n\u001b[1;32m      1\u001b[0m \u001b[0;32mdef\u001b[0m \u001b[0mdata_transform\u001b[0m\u001b[0;34m(\u001b[0m\u001b[0mmsg\u001b[0m\u001b[0;34m,\u001b[0m \u001b[0mcat\u001b[0m\u001b[0;34m)\u001b[0m\u001b[0;34m:\u001b[0m\u001b[0;34m\u001b[0m\u001b[0;34m\u001b[0m\u001b[0m\n\u001b[1;32m      2\u001b[0m     \u001b[0mlabels\u001b[0m \u001b[0;34m=\u001b[0m \u001b[0mcat\u001b[0m\u001b[0;34m[\u001b[0m\u001b[0;34m\"categories\"\u001b[0m\u001b[0;34m]\u001b[0m\u001b[0;34m.\u001b[0m\u001b[0mstr\u001b[0m\u001b[0;34m.\u001b[0m\u001b[0msplit\u001b[0m\u001b[0;34m(\u001b[0m\u001b[0mpat\u001b[0m\u001b[0;34m=\u001b[0m\u001b[0;34m\";\"\u001b[0m\u001b[0;34m,\u001b[0m \u001b[0mexpand\u001b[0m\u001b[0;34m=\u001b[0m\u001b[0;32mTrue\u001b[0m\u001b[0;34m)\u001b[0m\u001b[0;34m\u001b[0m\u001b[0;34m\u001b[0m\u001b[0m\n\u001b[0;32m----> 3\u001b[0;31m     \u001b[0mlabels\u001b[0m\u001b[0;34m.\u001b[0m\u001b[0mcolumns\u001b[0m \u001b[0;34m=\u001b[0m \u001b[0mcat\u001b[0m\u001b[0;34m.\u001b[0m\u001b[0miloc\u001b[0m\u001b[0;34m[\u001b[0m\u001b[0;36m0\u001b[0m\u001b[0;34m]\u001b[0m\u001b[0;34m.\u001b[0m\u001b[0mapply\u001b[0m\u001b[0;34m(\u001b[0m\u001b[0;32mlambda\u001b[0m \u001b[0mx\u001b[0m\u001b[0;34m:\u001b[0m \u001b[0mx\u001b[0m\u001b[0;34m[\u001b[0m\u001b[0;34m:\u001b[0m\u001b[0;34m-\u001b[0m\u001b[0;36m2\u001b[0m\u001b[0;34m]\u001b[0m\u001b[0;34m)\u001b[0m\u001b[0;34m\u001b[0m\u001b[0;34m\u001b[0m\u001b[0m\n\u001b[0m\u001b[1;32m      4\u001b[0m \u001b[0;34m\u001b[0m\u001b[0m\n\u001b[1;32m      5\u001b[0m     \u001b[0;32mfor\u001b[0m \u001b[0mcolumn\u001b[0m \u001b[0;32min\u001b[0m \u001b[0mlabels\u001b[0m\u001b[0;34m:\u001b[0m\u001b[0;34m\u001b[0m\u001b[0;34m\u001b[0m\u001b[0m\n",
      "\u001b[0;32m~/anaconda3/envs/pa/lib/python3.7/site-packages/pandas/core/series.py\u001b[0m in \u001b[0;36mapply\u001b[0;34m(self, func, convert_dtype, args, **kwds)\u001b[0m\n\u001b[1;32m   3847\u001b[0m             \u001b[0;32melse\u001b[0m\u001b[0;34m:\u001b[0m\u001b[0;34m\u001b[0m\u001b[0;34m\u001b[0m\u001b[0m\n\u001b[1;32m   3848\u001b[0m                 \u001b[0mvalues\u001b[0m \u001b[0;34m=\u001b[0m \u001b[0mself\u001b[0m\u001b[0;34m.\u001b[0m\u001b[0mastype\u001b[0m\u001b[0;34m(\u001b[0m\u001b[0mobject\u001b[0m\u001b[0;34m)\u001b[0m\u001b[0;34m.\u001b[0m\u001b[0mvalues\u001b[0m\u001b[0;34m\u001b[0m\u001b[0;34m\u001b[0m\u001b[0m\n\u001b[0;32m-> 3849\u001b[0;31m                 \u001b[0mmapped\u001b[0m \u001b[0;34m=\u001b[0m \u001b[0mlib\u001b[0m\u001b[0;34m.\u001b[0m\u001b[0mmap_infer\u001b[0m\u001b[0;34m(\u001b[0m\u001b[0mvalues\u001b[0m\u001b[0;34m,\u001b[0m \u001b[0mf\u001b[0m\u001b[0;34m,\u001b[0m \u001b[0mconvert\u001b[0m\u001b[0;34m=\u001b[0m\u001b[0mconvert_dtype\u001b[0m\u001b[0;34m)\u001b[0m\u001b[0;34m\u001b[0m\u001b[0;34m\u001b[0m\u001b[0m\n\u001b[0m\u001b[1;32m   3850\u001b[0m \u001b[0;34m\u001b[0m\u001b[0m\n\u001b[1;32m   3851\u001b[0m         \u001b[0;32mif\u001b[0m \u001b[0mlen\u001b[0m\u001b[0;34m(\u001b[0m\u001b[0mmapped\u001b[0m\u001b[0;34m)\u001b[0m \u001b[0;32mand\u001b[0m \u001b[0misinstance\u001b[0m\u001b[0;34m(\u001b[0m\u001b[0mmapped\u001b[0m\u001b[0;34m[\u001b[0m\u001b[0;36m0\u001b[0m\u001b[0;34m]\u001b[0m\u001b[0;34m,\u001b[0m \u001b[0mSeries\u001b[0m\u001b[0;34m)\u001b[0m\u001b[0;34m:\u001b[0m\u001b[0;34m\u001b[0m\u001b[0;34m\u001b[0m\u001b[0m\n",
      "\u001b[0;32mpandas/_libs/lib.pyx\u001b[0m in \u001b[0;36mpandas._libs.lib.map_infer\u001b[0;34m()\u001b[0m\n",
      "\u001b[0;32m<ipython-input-4-55525e149fac>\u001b[0m in \u001b[0;36m<lambda>\u001b[0;34m(x)\u001b[0m\n\u001b[1;32m      1\u001b[0m \u001b[0;32mdef\u001b[0m \u001b[0mdata_transform\u001b[0m\u001b[0;34m(\u001b[0m\u001b[0mmsg\u001b[0m\u001b[0;34m,\u001b[0m \u001b[0mcat\u001b[0m\u001b[0;34m)\u001b[0m\u001b[0;34m:\u001b[0m\u001b[0;34m\u001b[0m\u001b[0;34m\u001b[0m\u001b[0m\n\u001b[1;32m      2\u001b[0m     \u001b[0mlabels\u001b[0m \u001b[0;34m=\u001b[0m \u001b[0mcat\u001b[0m\u001b[0;34m[\u001b[0m\u001b[0;34m\"categories\"\u001b[0m\u001b[0;34m]\u001b[0m\u001b[0;34m.\u001b[0m\u001b[0mstr\u001b[0m\u001b[0;34m.\u001b[0m\u001b[0msplit\u001b[0m\u001b[0;34m(\u001b[0m\u001b[0mpat\u001b[0m\u001b[0;34m=\u001b[0m\u001b[0;34m\";\"\u001b[0m\u001b[0;34m,\u001b[0m \u001b[0mexpand\u001b[0m\u001b[0;34m=\u001b[0m\u001b[0;32mTrue\u001b[0m\u001b[0;34m)\u001b[0m\u001b[0;34m\u001b[0m\u001b[0;34m\u001b[0m\u001b[0m\n\u001b[0;32m----> 3\u001b[0;31m     \u001b[0mlabels\u001b[0m\u001b[0;34m.\u001b[0m\u001b[0mcolumns\u001b[0m \u001b[0;34m=\u001b[0m \u001b[0mcat\u001b[0m\u001b[0;34m.\u001b[0m\u001b[0miloc\u001b[0m\u001b[0;34m[\u001b[0m\u001b[0;36m0\u001b[0m\u001b[0;34m]\u001b[0m\u001b[0;34m.\u001b[0m\u001b[0mapply\u001b[0m\u001b[0;34m(\u001b[0m\u001b[0;32mlambda\u001b[0m \u001b[0mx\u001b[0m\u001b[0;34m:\u001b[0m \u001b[0mx\u001b[0m\u001b[0;34m[\u001b[0m\u001b[0;34m:\u001b[0m\u001b[0;34m-\u001b[0m\u001b[0;36m2\u001b[0m\u001b[0;34m]\u001b[0m\u001b[0;34m)\u001b[0m\u001b[0;34m\u001b[0m\u001b[0;34m\u001b[0m\u001b[0m\n\u001b[0m\u001b[1;32m      4\u001b[0m \u001b[0;34m\u001b[0m\u001b[0m\n\u001b[1;32m      5\u001b[0m     \u001b[0;32mfor\u001b[0m \u001b[0mcolumn\u001b[0m \u001b[0;32min\u001b[0m \u001b[0mlabels\u001b[0m\u001b[0;34m:\u001b[0m\u001b[0;34m\u001b[0m\u001b[0;34m\u001b[0m\u001b[0m\n",
      "\u001b[0;31mIndexError\u001b[0m: invalid index to scalar variable."
     ],
     "ename": "IndexError",
     "evalue": "invalid index to scalar variable.",
     "output_type": "error"
    }
   ],
   "source": [
    "# concatenate the original dataframe with the new `categories` dataframe\n",
    "df = pd.merge(df, categories)\n",
    "df.head()"
   ]
  },
  {
   "cell_type": "markdown",
   "metadata": {},
   "source": [
    "### 6. 删除重复行\n",
    "- 检查这个数据集中有多少重复行。\n",
    "- 删除重复行。\n",
    "- 确认重复行被删除了。"
   ]
  },
  {
   "cell_type": "code",
   "execution_count": 12,
   "metadata": {
    "pycharm": {
     "is_executing": false
    }
   },
   "outputs": [
    {
     "data": {
      "text/plain": "          id                                            message  \\\n0          2  Weather update - a cold front from Cuba that c...   \n1          7            Is the Hurricane over or is it not over   \n2          8                    Looking for someone but no name   \n3          9  UN reports Leogane 80-90 destroyed. Only Hospi...   \n4         12  says: west side of Haiti, rest of the country ...   \n...      ...                                                ...   \n26663  30261  The training demonstrated how to enhance micro...   \n26664  30262  A suitable candidate has been selected and OCH...   \n26665  30263  Proshika, operating in Cox's Bazar municipalit...   \n26666  30264  Some 2,000 women protesting against the conduc...   \n26667  30265  A radical shift in thinking came about as a re...   \n\n                                                original   genre  related  \\\n0      Un front froid se retrouve sur Cuba ce matin. ...  direct        1   \n1                     Cyclone nan fini osinon li pa fini  direct        1   \n2      Patnm, di Maryani relem pou li banm nouvel li ...  direct        1   \n3      UN reports Leogane 80-90 destroyed. Only Hospi...  direct        1   \n4      facade ouest d Haiti et le reste du pays aujou...  direct        1   \n...                                                  ...     ...      ...   \n26663                                                NaN    news        0   \n26664                                                NaN    news        0   \n26665                                                NaN    news        1   \n26666                                                NaN    news        1   \n26667                                                NaN    news        1   \n\n       request  offer  aid_related  medical_help  medical_products  ...  \\\n0            0      0            0             0                 0  ...   \n1            0      0            1             0                 0  ...   \n2            0      0            0             0                 0  ...   \n3            1      0            1             0                 1  ...   \n4            0      0            0             0                 0  ...   \n...        ...    ...          ...           ...               ...  ...   \n26663        0      0            0             0                 0  ...   \n26664        0      0            0             0                 0  ...   \n26665        0      0            0             0                 0  ...   \n26666        0      0            1             0                 0  ...   \n26667        0      0            0             0                 0  ...   \n\n       aid_centers  other_infrastructure  weather_related  floods  storm  \\\n0                0                     0                0       0      0   \n1                0                     0                1       0      1   \n2                0                     0                0       0      0   \n3                0                     0                0       0      0   \n4                0                     0                0       0      0   \n...            ...                   ...              ...     ...    ...   \n26663            0                     0                0       0      0   \n26664            0                     0                0       0      0   \n26665            0                     0                0       0      0   \n26666            0                     0                0       0      0   \n26667            0                     0                0       0      0   \n\n       fire  earthquake  cold  other_weather  direct_report  \n0         0           0     0              0              0  \n1         0           0     0              0              0  \n2         0           0     0              0              0  \n3         0           0     0              0              0  \n4         0           0     0              0              0  \n...     ...         ...   ...            ...            ...  \n26663     0           0     0              0              0  \n26664     0           0     0              0              0  \n26665     0           0     0              0              0  \n26666     0           0     0              0              0  \n26667     0           0     0              0              0  \n\n[26216 rows x 40 columns]",
      "text/html": "<div>\n<style scoped>\n    .dataframe tbody tr th:only-of-type {\n        vertical-align: middle;\n    }\n\n    .dataframe tbody tr th {\n        vertical-align: top;\n    }\n\n    .dataframe thead th {\n        text-align: right;\n    }\n</style>\n<table border=\"1\" class=\"dataframe\">\n  <thead>\n    <tr style=\"text-align: right;\">\n      <th></th>\n      <th>id</th>\n      <th>message</th>\n      <th>original</th>\n      <th>genre</th>\n      <th>related</th>\n      <th>request</th>\n      <th>offer</th>\n      <th>aid_related</th>\n      <th>medical_help</th>\n      <th>medical_products</th>\n      <th>...</th>\n      <th>aid_centers</th>\n      <th>other_infrastructure</th>\n      <th>weather_related</th>\n      <th>floods</th>\n      <th>storm</th>\n      <th>fire</th>\n      <th>earthquake</th>\n      <th>cold</th>\n      <th>other_weather</th>\n      <th>direct_report</th>\n    </tr>\n  </thead>\n  <tbody>\n    <tr>\n      <th>0</th>\n      <td>2</td>\n      <td>Weather update - a cold front from Cuba that c...</td>\n      <td>Un front froid se retrouve sur Cuba ce matin. ...</td>\n      <td>direct</td>\n      <td>1</td>\n      <td>0</td>\n      <td>0</td>\n      <td>0</td>\n      <td>0</td>\n      <td>0</td>\n      <td>...</td>\n      <td>0</td>\n      <td>0</td>\n      <td>0</td>\n      <td>0</td>\n      <td>0</td>\n      <td>0</td>\n      <td>0</td>\n      <td>0</td>\n      <td>0</td>\n      <td>0</td>\n    </tr>\n    <tr>\n      <th>1</th>\n      <td>7</td>\n      <td>Is the Hurricane over or is it not over</td>\n      <td>Cyclone nan fini osinon li pa fini</td>\n      <td>direct</td>\n      <td>1</td>\n      <td>0</td>\n      <td>0</td>\n      <td>1</td>\n      <td>0</td>\n      <td>0</td>\n      <td>...</td>\n      <td>0</td>\n      <td>0</td>\n      <td>1</td>\n      <td>0</td>\n      <td>1</td>\n      <td>0</td>\n      <td>0</td>\n      <td>0</td>\n      <td>0</td>\n      <td>0</td>\n    </tr>\n    <tr>\n      <th>2</th>\n      <td>8</td>\n      <td>Looking for someone but no name</td>\n      <td>Patnm, di Maryani relem pou li banm nouvel li ...</td>\n      <td>direct</td>\n      <td>1</td>\n      <td>0</td>\n      <td>0</td>\n      <td>0</td>\n      <td>0</td>\n      <td>0</td>\n      <td>...</td>\n      <td>0</td>\n      <td>0</td>\n      <td>0</td>\n      <td>0</td>\n      <td>0</td>\n      <td>0</td>\n      <td>0</td>\n      <td>0</td>\n      <td>0</td>\n      <td>0</td>\n    </tr>\n    <tr>\n      <th>3</th>\n      <td>9</td>\n      <td>UN reports Leogane 80-90 destroyed. Only Hospi...</td>\n      <td>UN reports Leogane 80-90 destroyed. Only Hospi...</td>\n      <td>direct</td>\n      <td>1</td>\n      <td>1</td>\n      <td>0</td>\n      <td>1</td>\n      <td>0</td>\n      <td>1</td>\n      <td>...</td>\n      <td>0</td>\n      <td>0</td>\n      <td>0</td>\n      <td>0</td>\n      <td>0</td>\n      <td>0</td>\n      <td>0</td>\n      <td>0</td>\n      <td>0</td>\n      <td>0</td>\n    </tr>\n    <tr>\n      <th>4</th>\n      <td>12</td>\n      <td>says: west side of Haiti, rest of the country ...</td>\n      <td>facade ouest d Haiti et le reste du pays aujou...</td>\n      <td>direct</td>\n      <td>1</td>\n      <td>0</td>\n      <td>0</td>\n      <td>0</td>\n      <td>0</td>\n      <td>0</td>\n      <td>...</td>\n      <td>0</td>\n      <td>0</td>\n      <td>0</td>\n      <td>0</td>\n      <td>0</td>\n      <td>0</td>\n      <td>0</td>\n      <td>0</td>\n      <td>0</td>\n      <td>0</td>\n    </tr>\n    <tr>\n      <th>...</th>\n      <td>...</td>\n      <td>...</td>\n      <td>...</td>\n      <td>...</td>\n      <td>...</td>\n      <td>...</td>\n      <td>...</td>\n      <td>...</td>\n      <td>...</td>\n      <td>...</td>\n      <td>...</td>\n      <td>...</td>\n      <td>...</td>\n      <td>...</td>\n      <td>...</td>\n      <td>...</td>\n      <td>...</td>\n      <td>...</td>\n      <td>...</td>\n      <td>...</td>\n      <td>...</td>\n    </tr>\n    <tr>\n      <th>26663</th>\n      <td>30261</td>\n      <td>The training demonstrated how to enhance micro...</td>\n      <td>NaN</td>\n      <td>news</td>\n      <td>0</td>\n      <td>0</td>\n      <td>0</td>\n      <td>0</td>\n      <td>0</td>\n      <td>0</td>\n      <td>...</td>\n      <td>0</td>\n      <td>0</td>\n      <td>0</td>\n      <td>0</td>\n      <td>0</td>\n      <td>0</td>\n      <td>0</td>\n      <td>0</td>\n      <td>0</td>\n      <td>0</td>\n    </tr>\n    <tr>\n      <th>26664</th>\n      <td>30262</td>\n      <td>A suitable candidate has been selected and OCH...</td>\n      <td>NaN</td>\n      <td>news</td>\n      <td>0</td>\n      <td>0</td>\n      <td>0</td>\n      <td>0</td>\n      <td>0</td>\n      <td>0</td>\n      <td>...</td>\n      <td>0</td>\n      <td>0</td>\n      <td>0</td>\n      <td>0</td>\n      <td>0</td>\n      <td>0</td>\n      <td>0</td>\n      <td>0</td>\n      <td>0</td>\n      <td>0</td>\n    </tr>\n    <tr>\n      <th>26665</th>\n      <td>30263</td>\n      <td>Proshika, operating in Cox's Bazar municipalit...</td>\n      <td>NaN</td>\n      <td>news</td>\n      <td>1</td>\n      <td>0</td>\n      <td>0</td>\n      <td>0</td>\n      <td>0</td>\n      <td>0</td>\n      <td>...</td>\n      <td>0</td>\n      <td>0</td>\n      <td>0</td>\n      <td>0</td>\n      <td>0</td>\n      <td>0</td>\n      <td>0</td>\n      <td>0</td>\n      <td>0</td>\n      <td>0</td>\n    </tr>\n    <tr>\n      <th>26666</th>\n      <td>30264</td>\n      <td>Some 2,000 women protesting against the conduc...</td>\n      <td>NaN</td>\n      <td>news</td>\n      <td>1</td>\n      <td>0</td>\n      <td>0</td>\n      <td>1</td>\n      <td>0</td>\n      <td>0</td>\n      <td>...</td>\n      <td>0</td>\n      <td>0</td>\n      <td>0</td>\n      <td>0</td>\n      <td>0</td>\n      <td>0</td>\n      <td>0</td>\n      <td>0</td>\n      <td>0</td>\n      <td>0</td>\n    </tr>\n    <tr>\n      <th>26667</th>\n      <td>30265</td>\n      <td>A radical shift in thinking came about as a re...</td>\n      <td>NaN</td>\n      <td>news</td>\n      <td>1</td>\n      <td>0</td>\n      <td>0</td>\n      <td>0</td>\n      <td>0</td>\n      <td>0</td>\n      <td>...</td>\n      <td>0</td>\n      <td>0</td>\n      <td>0</td>\n      <td>0</td>\n      <td>0</td>\n      <td>0</td>\n      <td>0</td>\n      <td>0</td>\n      <td>0</td>\n      <td>0</td>\n    </tr>\n  </tbody>\n</table>\n<p>26216 rows × 40 columns</p>\n</div>"
     },
     "metadata": {},
     "output_type": "execute_result",
     "execution_count": 12
    }
   ],
   "source": [
    "# check number of duplicates\n",
    "\n",
    "df.drop_duplicates()"
   ]
  },
  {
   "cell_type": "code",
   "execution_count": null,
   "metadata": {},
   "outputs": [],
   "source": [
    "# drop duplicates\n"
   ]
  },
  {
   "cell_type": "code",
   "execution_count": null,
   "metadata": {},
   "outputs": [],
   "source": [
    "# check number of duplicates\n"
   ]
  },
  {
   "cell_type": "markdown",
   "metadata": {},
   "source": [
    "### 7. 保存整理后的数据集为 sqlite databse \n",
    "你可以使用 pandas 的 [`to_sql` 方法](https://pandas.pydata.org/pandas-docs/stable/generated/pandas.DataFrame.to_sql.html) 和SQLAlchemy 库实现这一点。记得在 notebook 的第一个单元格导入 SQLAlchemy 的 `create_engine` 以在下方使用该库。"
   ]
  },
  {
   "cell_type": "code",
   "execution_count": null,
   "metadata": {},
   "outputs": [],
   "source": [
    "engine = create_engine('sqlite:///InsertDatabaseName.db')\n",
    "df.to_sql('InsertTableName', engine, index=False)"
   ]
  },
  {
   "cell_type": "markdown",
   "metadata": {},
   "source": [
    "### 8. 在这个notebook 里完成 `etl_pipeline.py`\n",
    "使用 Resources 文件夹中给出的模板文件编写脚本，运行上面的步骤，根据用户指定的新数据库创建一个数据库。或者，你也可以在项目工作环境 IDE 中完成教室中的 `etl_pipeline.py` 。"
   ]
  },
  {
   "cell_type": "code",
   "execution_count": null,
   "metadata": {},
   "outputs": [],
   "source": []
  }
 ],
 "metadata": {
  "kernelspec": {
   "name": "playground",
   "language": "python",
   "display_name": "Py3 (pa)"
  },
  "language_info": {
   "codemirror_mode": {
    "name": "ipython",
    "version": 3
   },
   "file_extension": ".py",
   "mimetype": "text/x-python",
   "name": "python",
   "nbconvert_exporter": "python",
   "pygments_lexer": "ipython3",
   "version": "3.6.3"
  },
  "pycharm": {
   "stem_cell": {
    "cell_type": "raw",
    "source": [],
    "metadata": {
     "collapsed": false
    }
   }
  }
 },
 "nbformat": 4,
 "nbformat_minor": 2
}